{
 "cells": [
  {
   "cell_type": "markdown",
   "id": "3bf7317e",
   "metadata": {},
   "source": [
    "# Import the Necessary Libraries"
   ]
  },
  {
   "cell_type": "code",
   "execution_count": null,
   "id": "d4e1cff4",
   "metadata": {},
   "outputs": [],
   "source": [
    "import pandas\n",
    "import numpy"
   ]
  },
  {
   "cell_type": "code",
   "execution_count": null,
   "id": "5c4d1d0b",
   "metadata": {},
   "outputs": [],
   "source": [
    "# To import data from National Stock Exchange\n",
    "import nsepy\n",
    "from nsepy import get_history\n",
    "import datetime\n",
    "from datetime import date"
   ]
  },
  {
   "cell_type": "code",
   "execution_count": null,
   "id": "07a6b7fb",
   "metadata": {},
   "outputs": [],
   "source": [
    "#To Import data from Yahoo Finance\n",
    "import pandas_datareader\n",
    "from pandas_datareader import data"
   ]
  },
  {
   "cell_type": "code",
   "execution_count": null,
   "id": "ef55258f",
   "metadata": {},
   "outputs": [],
   "source": [
    "import plotly.graph_objs as go"
   ]
  },
  {
   "cell_type": "code",
   "execution_count": null,
   "id": "3934d2ae",
   "metadata": {},
   "outputs": [],
   "source": []
  },
  {
   "cell_type": "markdown",
   "id": "786c83d6",
   "metadata": {},
   "source": [
    "# Extract the Stock Data"
   ]
  },
  {
   "cell_type": "markdown",
   "id": "8b7fd062",
   "metadata": {},
   "source": [
    "## To Extract Stock Data From National Stock Exchange"
   ]
  },
  {
   "cell_type": "code",
   "execution_count": null,
   "id": "dee3bcf9",
   "metadata": {},
   "outputs": [],
   "source": [
    "# Extract the Stock Data\n",
    "stock = get_history(symbol = \"ASTRAL\" , start = date(2020,10,25) , end = date(2021,10,25))\n",
    "stock"
   ]
  },
  {
   "cell_type": "code",
   "execution_count": null,
   "id": "8e08a16d",
   "metadata": {},
   "outputs": [],
   "source": [
    "# Remove the Uneccessary Columns\n",
    "stock.drop(columns = ['Symbol', 'Series', 'Prev Close', 'Last',\n",
    "       'VWAP', 'Turnover', 'Trades', 'Deliverable Volume',\n",
    "       '%Deliverble'] , inplace = True)"
   ]
  },
  {
   "cell_type": "code",
   "execution_count": null,
   "id": "f2fa3030",
   "metadata": {},
   "outputs": [],
   "source": [
    "# Only keep theese Columns = Open, High , Low , Close , Volume\n",
    "stock"
   ]
  },
  {
   "cell_type": "code",
   "execution_count": null,
   "id": "f162b19e",
   "metadata": {},
   "outputs": [],
   "source": []
  },
  {
   "cell_type": "markdown",
   "id": "660d2d44",
   "metadata": {},
   "source": [
    "## To Extract Data from Yahoo Finance"
   ]
  },
  {
   "cell_type": "code",
   "execution_count": null,
   "id": "93391b57",
   "metadata": {},
   "outputs": [],
   "source": [
    "# Extract the Stock Data\n",
    "stock = data.DataReader(name = \"AAPL\" , data_source = \"yahoo\" , start = \"2020-10-25\" , end = \"2021-10-25\")\n",
    "stock"
   ]
  },
  {
   "cell_type": "code",
   "execution_count": null,
   "id": "47290615",
   "metadata": {},
   "outputs": [],
   "source": [
    "# Remove the Uneccessary Columns\n",
    "stock.drop(columns = [\"Close\"] , inplace = True)"
   ]
  },
  {
   "cell_type": "code",
   "execution_count": null,
   "id": "324958d4",
   "metadata": {},
   "outputs": [],
   "source": [
    "# Only keep theese Columns = Open, High , Low , Close , Volume\n",
    "stock.rename(columns = {\"Adj Close\" : \"Close\"} , inplace = True)\n",
    "stock"
   ]
  },
  {
   "cell_type": "code",
   "execution_count": null,
   "id": "e99d6952",
   "metadata": {},
   "outputs": [],
   "source": []
  },
  {
   "cell_type": "markdown",
   "id": "5a560be0",
   "metadata": {},
   "source": [
    "# Plot the Chart"
   ]
  },
  {
   "cell_type": "code",
   "execution_count": null,
   "id": "19109d9b",
   "metadata": {},
   "outputs": [],
   "source": [
    "figure = go.Figure(\n",
    "    \n",
    "    data = [\n",
    "        go.Candlestick(\n",
    "            x = stock.index,\n",
    "            low = stock[\"Low\"],\n",
    "            high = stock[\"High\"],\n",
    "            close = stock[\"Close\"],\n",
    "            open = stock[\"Open\"],\n",
    "            increasing_line_color = \"green\",\n",
    "            decreasing_line_color = \"red\"\n",
    "            )\n",
    "    ]\n",
    ")\n",
    "\n",
    "figure.update_layout(\n",
    "title = \"Candle Stick Chart of the Stock\",\n",
    "yaxis_title = \"Stock Price\",\n",
    "xaxis_title = \"Date\")\n",
    "\n",
    "figure.show()"
   ]
  },
  {
   "cell_type": "code",
   "execution_count": null,
   "id": "07414189",
   "metadata": {},
   "outputs": [],
   "source": []
  }
 ],
 "metadata": {
  "kernelspec": {
   "display_name": "Python 3",
   "language": "python",
   "name": "python3"
  },
  "language_info": {
   "codemirror_mode": {
    "name": "ipython",
    "version": 3
   },
   "file_extension": ".py",
   "mimetype": "text/x-python",
   "name": "python",
   "nbconvert_exporter": "python",
   "pygments_lexer": "ipython3",
   "version": "3.8.8"
  }
 },
 "nbformat": 4,
 "nbformat_minor": 5
}
